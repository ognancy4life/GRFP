{
 "cells": [
  {
   "cell_type": "markdown",
   "id": "informal-cover",
   "metadata": {},
   "source": [
    "### Jupyter notebook to distill GRFP Awardee results\n",
    "\n",
    "I made this notebook because I was curious about the distribution of GRFP awards by institution and discipline and I'm currently learning Python and git. If you have suggestions or changes, please feel free to provide feedback.\n",
    "\n",
    "The output is all below, but if you wish to rerun it yourself (perhaps with a different year), then make your changes and press the \"Run\" button above to step through each cell. Press the \"fast forward\" button to rerun the whole notebook from start to finish."
   ]
  },
  {
   "cell_type": "code",
   "execution_count": 1,
   "id": "accomplished-anime",
   "metadata": {},
   "outputs": [],
   "source": [
    "import pandas as pd"
   ]
  },
  {
   "cell_type": "code",
   "execution_count": 2,
   "id": "induced-pixel",
   "metadata": {},
   "outputs": [
    {
     "data": {
      "text/html": [
       "<div>\n",
       "<style scoped>\n",
       "    .dataframe tbody tr th:only-of-type {\n",
       "        vertical-align: middle;\n",
       "    }\n",
       "\n",
       "    .dataframe tbody tr th {\n",
       "        vertical-align: top;\n",
       "    }\n",
       "\n",
       "    .dataframe thead th {\n",
       "        text-align: right;\n",
       "    }\n",
       "</style>\n",
       "<table border=\"1\" class=\"dataframe\">\n",
       "  <thead>\n",
       "    <tr style=\"text-align: right;\">\n",
       "      <th></th>\n",
       "      <th>Name</th>\n",
       "      <th>Baccalaureate Institution</th>\n",
       "      <th>Field of Study</th>\n",
       "      <th>Current Institution</th>\n",
       "    </tr>\n",
       "  </thead>\n",
       "  <tbody>\n",
       "    <tr>\n",
       "      <th>0</th>\n",
       "      <td>Abdo, Emily Eugenia</td>\n",
       "      <td>Princeton University</td>\n",
       "      <td>Engineering - Chemical Engineering</td>\n",
       "      <td>NaN</td>\n",
       "    </tr>\n",
       "    <tr>\n",
       "      <th>1</th>\n",
       "      <td>Abed, Ahmad Matar</td>\n",
       "      <td>University of Puerto Rico at Humacao</td>\n",
       "      <td>Materials Research - Electronic Materials</td>\n",
       "      <td>University of Michigan - Ann Arbor</td>\n",
       "    </tr>\n",
       "    <tr>\n",
       "      <th>2</th>\n",
       "      <td>Abel, Charlotte magalie</td>\n",
       "      <td>California Polytechnic State University</td>\n",
       "      <td>Social Sciences - Sociology</td>\n",
       "      <td>University of California-Los Angeles</td>\n",
       "    </tr>\n",
       "    <tr>\n",
       "      <th>3</th>\n",
       "      <td>Abellera, Marriah</td>\n",
       "      <td>University of California-Santa Barbara</td>\n",
       "      <td>Engineering - Environmental Engineering</td>\n",
       "      <td>NaN</td>\n",
       "    </tr>\n",
       "    <tr>\n",
       "      <th>4</th>\n",
       "      <td>Abubakare, Oluwatobi</td>\n",
       "      <td>University of Rochester</td>\n",
       "      <td>Psychology - Social Psychology</td>\n",
       "      <td>Harvard University</td>\n",
       "    </tr>\n",
       "  </tbody>\n",
       "</table>\n",
       "</div>"
      ],
      "text/plain": [
       "                      Name                Baccalaureate Institution  \\\n",
       "0      Abdo, Emily Eugenia                     Princeton University   \n",
       "1        Abed, Ahmad Matar     University of Puerto Rico at Humacao   \n",
       "2  Abel, Charlotte magalie  California Polytechnic State University   \n",
       "3        Abellera, Marriah   University of California-Santa Barbara   \n",
       "4     Abubakare, Oluwatobi                  University of Rochester   \n",
       "\n",
       "                              Field of Study  \\\n",
       "0         Engineering - Chemical Engineering   \n",
       "1  Materials Research - Electronic Materials   \n",
       "2                Social Sciences - Sociology   \n",
       "3    Engineering - Environmental Engineering   \n",
       "4             Psychology - Social Psychology   \n",
       "\n",
       "                    Current Institution  \n",
       "0                                   NaN  \n",
       "1    University of Michigan - Ann Arbor  \n",
       "2  University of California-Los Angeles  \n",
       "3                                   NaN  \n",
       "4                    Harvard University  "
      ]
     },
     "execution_count": 2,
     "metadata": {},
     "output_type": "execute_result"
    }
   ],
   "source": [
    "year = 2021 #Change the year here to any year 2011-2021 and rerun the code \n",
    "data_dir = 'data/'\n",
    "GRFP = pd.read_csv(data_dir + str(year) + 'AwardeeList.do', sep='\\t')\n",
    "GRFP.head() # preview the head of the GRFP dataframe just created"
   ]
  },
  {
   "cell_type": "markdown",
   "id": "chemical-steps",
   "metadata": {},
   "source": [
    "### How many awardees this year?"
   ]
  },
  {
   "cell_type": "code",
   "execution_count": 3,
   "id": "selected-pendant",
   "metadata": {},
   "outputs": [
    {
     "data": {
      "text/plain": [
       "2074"
      ]
     },
     "execution_count": 3,
     "metadata": {},
     "output_type": "execute_result"
    }
   ],
   "source": [
    "Awardees = GRFP['Name'].count() #total awardees\n",
    "Awardees"
   ]
  },
  {
   "cell_type": "markdown",
   "id": "numeric-fitness",
   "metadata": {},
   "source": [
    "### Which Baccalaureate Institutions had the most awardees?\n",
    "Note that this call includes engineering, which seems to swamp the other disciplines."
   ]
  },
  {
   "cell_type": "code",
   "execution_count": 4,
   "id": "direct-frederick",
   "metadata": {},
   "outputs": [
    {
     "data": {
      "text/plain": [
       "Baccalaureate Institution\n",
       "UNIVERSITY OF CALIFORNIA, BERKELEY                   64\n",
       "Massachusetts Institute of Technology                61\n",
       "Stanford University                                  42\n",
       "Georgia Institute of Technology                      33\n",
       "University of Chicago                                33\n",
       "Yale University                                      31\n",
       "Cornell University                                   29\n",
       "University of Texas at Austin                        29\n",
       "Regents of the University of Michigan - Ann Arbor    29\n",
       "University of Florida                                28\n",
       "UNIVERSITY OF WASHINGTON                             27\n",
       "Harvard University                                   27\n",
       "Princeton University                                 26\n",
       "Brown University                                     25\n",
       "Columbia University                                  25\n",
       "University of Minnesota-Twin Cities                  22\n",
       "Northwestern University                              21\n",
       "William Marsh Rice University                        20\n",
       "University of California-Santa Barbara               20\n",
       "University of Illinois at Urbana-Champaign           20\n",
       "dtype: int64"
      ]
     },
     "execution_count": 4,
     "metadata": {},
     "output_type": "execute_result"
    }
   ],
   "source": [
    "GRFP_byBaccInst = GRFP.groupby('Baccalaureate Institution').size().sort_values(ascending=False)\n",
    "GRFP_byBaccInst.head(20)"
   ]
  },
  {
   "cell_type": "markdown",
   "id": "searching-liquid",
   "metadata": {},
   "source": [
    "### Which Current Institutions had the most awardees?"
   ]
  },
  {
   "cell_type": "code",
   "execution_count": 5,
   "id": "inner-defeat",
   "metadata": {},
   "outputs": [
    {
     "data": {
      "text/plain": [
       "Current Institution\n",
       "Stanford University                                  81\n",
       "Massachusetts Institute of Technology                76\n",
       "UNIVERSITY OF CALIFORNIA, BERKELEY                   70\n",
       "Georgia Institute of Technology                      44\n",
       "Harvard University                                   43\n",
       "Columbia University                                  39\n",
       "University of Colorado at Boulder                    38\n",
       "Princeton University                                 34\n",
       "Regents of the University of Michigan - Ann Arbor    33\n",
       "University of Texas at Austin                        33\n",
       "University of California-Los Angeles                 31\n",
       "Northwestern University                              30\n",
       "Cornell University                                   29\n",
       "California Institute of Technology                   29\n",
       "UNIVERSITY OF WASHINGTON                             29\n",
       "Carnegie-Mellon University                           27\n",
       "University of Illinois at Urbana-Champaign           26\n",
       "University of California-Irvine                      26\n",
       "Yale University                                      26\n",
       "University of Pennsylvania                           25\n",
       "dtype: int64"
      ]
     },
     "execution_count": 5,
     "metadata": {},
     "output_type": "execute_result"
    }
   ],
   "source": [
    "GRFP_byBaccInst = GRFP.groupby('Current Institution').size().sort_values(ascending=False)\n",
    "GRFP_byBaccInst.head(20)"
   ]
  },
  {
   "cell_type": "markdown",
   "id": "important-party",
   "metadata": {},
   "source": [
    "### Did anyone who got a Bachelor's at USF get an award?"
   ]
  },
  {
   "cell_type": "code",
   "execution_count": 6,
   "id": "contrary-lesbian",
   "metadata": {},
   "outputs": [
    {
     "data": {
      "text/html": [
       "<div>\n",
       "<style scoped>\n",
       "    .dataframe tbody tr th:only-of-type {\n",
       "        vertical-align: middle;\n",
       "    }\n",
       "\n",
       "    .dataframe tbody tr th {\n",
       "        vertical-align: top;\n",
       "    }\n",
       "\n",
       "    .dataframe thead th {\n",
       "        text-align: right;\n",
       "    }\n",
       "</style>\n",
       "<table border=\"1\" class=\"dataframe\">\n",
       "  <thead>\n",
       "    <tr style=\"text-align: right;\">\n",
       "      <th></th>\n",
       "      <th>Name</th>\n",
       "      <th>Baccalaureate Institution</th>\n",
       "      <th>Field of Study</th>\n",
       "      <th>Current Institution</th>\n",
       "    </tr>\n",
       "  </thead>\n",
       "  <tbody>\n",
       "    <tr>\n",
       "      <th>1984</th>\n",
       "      <td>Withers, Zachary Hoyt</td>\n",
       "      <td>University of South Florida</td>\n",
       "      <td>Physics and Astronomy - Solid State Physics</td>\n",
       "      <td>University of South Florida</td>\n",
       "    </tr>\n",
       "  </tbody>\n",
       "</table>\n",
       "</div>"
      ],
      "text/plain": [
       "                       Name    Baccalaureate Institution  \\\n",
       "1984  Withers, Zachary Hoyt  University of South Florida   \n",
       "\n",
       "                                   Field of Study          Current Institution  \n",
       "1984  Physics and Astronomy - Solid State Physics  University of South Florida  "
      ]
     },
     "execution_count": 6,
     "metadata": {},
     "output_type": "execute_result"
    }
   ],
   "source": [
    "GRFP[GRFP['Baccalaureate Institution'].str.contains(\"University of South Florida\", case=False, na=False)]"
   ]
  },
  {
   "cell_type": "markdown",
   "id": "promising-springfield",
   "metadata": {},
   "source": [
    "### Did anyone who is currently at USF get an award?"
   ]
  },
  {
   "cell_type": "code",
   "execution_count": 7,
   "id": "caring-madison",
   "metadata": {},
   "outputs": [
    {
     "data": {
      "text/html": [
       "<div>\n",
       "<style scoped>\n",
       "    .dataframe tbody tr th:only-of-type {\n",
       "        vertical-align: middle;\n",
       "    }\n",
       "\n",
       "    .dataframe tbody tr th {\n",
       "        vertical-align: top;\n",
       "    }\n",
       "\n",
       "    .dataframe thead th {\n",
       "        text-align: right;\n",
       "    }\n",
       "</style>\n",
       "<table border=\"1\" class=\"dataframe\">\n",
       "  <thead>\n",
       "    <tr style=\"text-align: right;\">\n",
       "      <th></th>\n",
       "      <th>Name</th>\n",
       "      <th>Baccalaureate Institution</th>\n",
       "      <th>Field of Study</th>\n",
       "      <th>Current Institution</th>\n",
       "    </tr>\n",
       "  </thead>\n",
       "  <tbody>\n",
       "    <tr>\n",
       "      <th>1984</th>\n",
       "      <td>Withers, Zachary Hoyt</td>\n",
       "      <td>University of South Florida</td>\n",
       "      <td>Physics and Astronomy - Solid State Physics</td>\n",
       "      <td>University of South Florida</td>\n",
       "    </tr>\n",
       "  </tbody>\n",
       "</table>\n",
       "</div>"
      ],
      "text/plain": [
       "                       Name    Baccalaureate Institution  \\\n",
       "1984  Withers, Zachary Hoyt  University of South Florida   \n",
       "\n",
       "                                   Field of Study          Current Institution  \n",
       "1984  Physics and Astronomy - Solid State Physics  University of South Florida  "
      ]
     },
     "execution_count": 7,
     "metadata": {},
     "output_type": "execute_result"
    }
   ],
   "source": [
    "GRFP[GRFP['Current Institution'].str.contains(\"University of South Florida\", case=False, na=False)]"
   ]
  },
  {
   "cell_type": "markdown",
   "id": "geological-decline",
   "metadata": {},
   "source": [
    "### Let's look at just Florida institutions"
   ]
  },
  {
   "cell_type": "code",
   "execution_count": 8,
   "id": "final-warner",
   "metadata": {},
   "outputs": [
    {
     "data": {
      "text/plain": [
       "Baccalaureate Institution\n",
       "University of Florida                                  28\n",
       "Florida International University                        9\n",
       "New College of Florida                                  5\n",
       "University of Central Florida                           4\n",
       "Florida Atlantic University                             2\n",
       "Florida Gulf Coast University                           2\n",
       "Florida State University                                2\n",
       "Florida Agricultural and Mechanical University          1\n",
       "Florida Southern College                                1\n",
       "The University of Central Florida Board of Trustees     1\n",
       "University of North Florida                             1\n",
       "University of South Florida                             1\n",
       "dtype: int64"
      ]
     },
     "execution_count": 8,
     "metadata": {},
     "output_type": "execute_result"
    }
   ],
   "source": [
    "GRFP_byBaccFLInst = GRFP[GRFP['Baccalaureate Institution'].str.contains(\"Florida\")].groupby('Baccalaureate Institution').size().sort_values(ascending=False)\n",
    "GRFP_byBaccFLInst"
   ]
  },
  {
   "cell_type": "markdown",
   "id": "tutorial-maintenance",
   "metadata": {},
   "source": [
    "### Which programs at UF are producing lots of grads who receive awards?"
   ]
  },
  {
   "cell_type": "code",
   "execution_count": 9,
   "id": "confused-newcastle",
   "metadata": {},
   "outputs": [
    {
     "data": {
      "text/html": [
       "<div>\n",
       "<style scoped>\n",
       "    .dataframe tbody tr th:only-of-type {\n",
       "        vertical-align: middle;\n",
       "    }\n",
       "\n",
       "    .dataframe tbody tr th {\n",
       "        vertical-align: top;\n",
       "    }\n",
       "\n",
       "    .dataframe thead th {\n",
       "        text-align: right;\n",
       "    }\n",
       "</style>\n",
       "<table border=\"1\" class=\"dataframe\">\n",
       "  <thead>\n",
       "    <tr style=\"text-align: right;\">\n",
       "      <th></th>\n",
       "      <th>Name</th>\n",
       "      <th>Baccalaureate Institution</th>\n",
       "      <th>Field of Study</th>\n",
       "      <th>Current Institution</th>\n",
       "    </tr>\n",
       "  </thead>\n",
       "  <tbody>\n",
       "    <tr>\n",
       "      <th>29</th>\n",
       "      <td>Allen, Anthony</td>\n",
       "      <td>University of Florida</td>\n",
       "      <td>Engineering - Aeronautical and Aerospace Engin...</td>\n",
       "      <td>University of Florida</td>\n",
       "    </tr>\n",
       "    <tr>\n",
       "      <th>31</th>\n",
       "      <td>Alomar, Nathalie Marie</td>\n",
       "      <td>University of Florida</td>\n",
       "      <td>Life Sciences - Ecology</td>\n",
       "      <td>University of Florida</td>\n",
       "    </tr>\n",
       "    <tr>\n",
       "      <th>68</th>\n",
       "      <td>Astrab, Leilani</td>\n",
       "      <td>University of Florida</td>\n",
       "      <td>Engineering - Biomedical Engineering</td>\n",
       "      <td>UNIVERSITY OF VIRGINIA</td>\n",
       "    </tr>\n",
       "    <tr>\n",
       "      <th>106</th>\n",
       "      <td>Beaudry, David</td>\n",
       "      <td>University of Florida</td>\n",
       "      <td>Engineering - Materials Engineering</td>\n",
       "      <td>Johns Hopkins University</td>\n",
       "    </tr>\n",
       "    <tr>\n",
       "      <th>205</th>\n",
       "      <td>Buckner, Samuel Clark</td>\n",
       "      <td>University of Florida</td>\n",
       "      <td>Engineering - Aeronautical and Aerospace Engin...</td>\n",
       "      <td>University of Florida</td>\n",
       "    </tr>\n",
       "    <tr>\n",
       "      <th>251</th>\n",
       "      <td>Carroll, Katherine Caprice</td>\n",
       "      <td>University of Florida</td>\n",
       "      <td>Life Sciences - Ecology</td>\n",
       "      <td>University of Florida</td>\n",
       "    </tr>\n",
       "    <tr>\n",
       "      <th>424</th>\n",
       "      <td>Diaz, Maximillian</td>\n",
       "      <td>University of Florida</td>\n",
       "      <td>Engineering - Biomedical Engineering</td>\n",
       "      <td>University of Florida</td>\n",
       "    </tr>\n",
       "    <tr>\n",
       "      <th>488</th>\n",
       "      <td>Elie, Anne-Ketura</td>\n",
       "      <td>University of Florida</td>\n",
       "      <td>Psychology - Social Psychology</td>\n",
       "      <td>NaN</td>\n",
       "    </tr>\n",
       "    <tr>\n",
       "      <th>538</th>\n",
       "      <td>Ficarrotta, Joseph Michael</td>\n",
       "      <td>University of Florida</td>\n",
       "      <td>Engineering - Biomedical Engineering</td>\n",
       "      <td>UNIVERSITY OF VIRGINIA</td>\n",
       "    </tr>\n",
       "    <tr>\n",
       "      <th>641</th>\n",
       "      <td>Gonzalez, Natalia Pilar</td>\n",
       "      <td>University of Florida</td>\n",
       "      <td>Engineering - Mechanical Engineering</td>\n",
       "      <td>University of Florida</td>\n",
       "    </tr>\n",
       "    <tr>\n",
       "      <th>644</th>\n",
       "      <td>Gonzalez, Gorana Tavia</td>\n",
       "      <td>University of Florida</td>\n",
       "      <td>Psychology - Developmental Psychology</td>\n",
       "      <td>University of Massachusetts Amherst</td>\n",
       "    </tr>\n",
       "    <tr>\n",
       "      <th>678</th>\n",
       "      <td>Grubb, Mackenzie</td>\n",
       "      <td>University of Florida</td>\n",
       "      <td>Engineering - Biomedical Engineering</td>\n",
       "      <td>UNIVERSITY OF VIRGINIA</td>\n",
       "    </tr>\n",
       "    <tr>\n",
       "      <th>743</th>\n",
       "      <td>Henderson, Aria Renee</td>\n",
       "      <td>University of Florida</td>\n",
       "      <td>Engineering - Biomedical Engineering</td>\n",
       "      <td>Cornell University</td>\n",
       "    </tr>\n",
       "    <tr>\n",
       "      <th>856</th>\n",
       "      <td>Jimenez, Angela Cristina</td>\n",
       "      <td>University of Florida</td>\n",
       "      <td>Engineering - Biomedical Engineering</td>\n",
       "      <td>Georgia Institute of Technology</td>\n",
       "    </tr>\n",
       "    <tr>\n",
       "      <th>946</th>\n",
       "      <td>Kleckner, Kaylin Grace</td>\n",
       "      <td>University of Florida</td>\n",
       "      <td>Life Sciences - Other (specify) - Entomology</td>\n",
       "      <td>University of Florida</td>\n",
       "    </tr>\n",
       "    <tr>\n",
       "      <th>951</th>\n",
       "      <td>Knight, Parker</td>\n",
       "      <td>University of Florida</td>\n",
       "      <td>Mathematical Sciences - Biostatistics</td>\n",
       "      <td>University of Florida</td>\n",
       "    </tr>\n",
       "    <tr>\n",
       "      <th>1307</th>\n",
       "      <td>Natherson, Robyn</td>\n",
       "      <td>University of Florida</td>\n",
       "      <td>Engineering - Aeronautical and Aerospace Engin...</td>\n",
       "      <td>University of Florida</td>\n",
       "    </tr>\n",
       "    <tr>\n",
       "      <th>1366</th>\n",
       "      <td>Pacheco, Yan Carlos</td>\n",
       "      <td>University of Florida</td>\n",
       "      <td>Engineering - Biomedical Engineering</td>\n",
       "      <td>University of Florida</td>\n",
       "    </tr>\n",
       "    <tr>\n",
       "      <th>1450</th>\n",
       "      <td>Porrello, Christian</td>\n",
       "      <td>University of Florida</td>\n",
       "      <td>Engineering - Aeronautical and Aerospace Engin...</td>\n",
       "      <td>University of Florida</td>\n",
       "    </tr>\n",
       "    <tr>\n",
       "      <th>1523</th>\n",
       "      <td>Reyes, Amanda Ashley</td>\n",
       "      <td>University of Florida</td>\n",
       "      <td>Life Sciences - Ecology</td>\n",
       "      <td>NaN</td>\n",
       "    </tr>\n",
       "    <tr>\n",
       "      <th>1544</th>\n",
       "      <td>Rivas, Andy</td>\n",
       "      <td>University of Florida</td>\n",
       "      <td>Engineering - Nuclear Engineering</td>\n",
       "      <td>North Carolina State University</td>\n",
       "    </tr>\n",
       "    <tr>\n",
       "      <th>1607</th>\n",
       "      <td>Sakr, Adrian K</td>\n",
       "      <td>University of Florida</td>\n",
       "      <td>Engineering - Environmental Engineering</td>\n",
       "      <td>University of Florida</td>\n",
       "    </tr>\n",
       "    <tr>\n",
       "      <th>1679</th>\n",
       "      <td>Shuping, Alexander Gabriel</td>\n",
       "      <td>University of Florida</td>\n",
       "      <td>Engineering - Computer Engineering</td>\n",
       "      <td>University of Florida</td>\n",
       "    </tr>\n",
       "    <tr>\n",
       "      <th>1735</th>\n",
       "      <td>Steinebronn, Emma Kate</td>\n",
       "      <td>University of Florida</td>\n",
       "      <td>Materials Research - Quantum Information Science</td>\n",
       "      <td>University of Florida</td>\n",
       "    </tr>\n",
       "    <tr>\n",
       "      <th>1764</th>\n",
       "      <td>Suen, Daniel</td>\n",
       "      <td>University of Florida</td>\n",
       "      <td>Mathematical Sciences - Statistics</td>\n",
       "      <td>University of Washington</td>\n",
       "    </tr>\n",
       "    <tr>\n",
       "      <th>1889</th>\n",
       "      <td>Vieira, Annelise</td>\n",
       "      <td>University of Florida</td>\n",
       "      <td>Life Sciences - Genetics</td>\n",
       "      <td>University of Florida</td>\n",
       "    </tr>\n",
       "    <tr>\n",
       "      <th>1961</th>\n",
       "      <td>Wiech, Kathy Julie</td>\n",
       "      <td>University of Florida</td>\n",
       "      <td>Physics and Astronomy - Astronomy and Astrophy...</td>\n",
       "      <td>University of Florida</td>\n",
       "    </tr>\n",
       "    <tr>\n",
       "      <th>2034</th>\n",
       "      <td>Young, Isabella</td>\n",
       "      <td>University of Florida</td>\n",
       "      <td>Engineering - Biomedical Engineering</td>\n",
       "      <td>University of North Carolina at Chapel Hill</td>\n",
       "    </tr>\n",
       "  </tbody>\n",
       "</table>\n",
       "</div>"
      ],
      "text/plain": [
       "                            Name Baccalaureate Institution  \\\n",
       "29                Allen, Anthony     University of Florida   \n",
       "31        Alomar, Nathalie Marie     University of Florida   \n",
       "68               Astrab, Leilani     University of Florida   \n",
       "106               Beaudry, David     University of Florida   \n",
       "205        Buckner, Samuel Clark     University of Florida   \n",
       "251   Carroll, Katherine Caprice     University of Florida   \n",
       "424            Diaz, Maximillian     University of Florida   \n",
       "488            Elie, Anne-Ketura     University of Florida   \n",
       "538   Ficarrotta, Joseph Michael     University of Florida   \n",
       "641      Gonzalez, Natalia Pilar     University of Florida   \n",
       "644       Gonzalez, Gorana Tavia     University of Florida   \n",
       "678             Grubb, Mackenzie     University of Florida   \n",
       "743        Henderson, Aria Renee     University of Florida   \n",
       "856     Jimenez, Angela Cristina     University of Florida   \n",
       "946       Kleckner, Kaylin Grace     University of Florida   \n",
       "951               Knight, Parker     University of Florida   \n",
       "1307            Natherson, Robyn     University of Florida   \n",
       "1366         Pacheco, Yan Carlos     University of Florida   \n",
       "1450         Porrello, Christian     University of Florida   \n",
       "1523        Reyes, Amanda Ashley     University of Florida   \n",
       "1544                 Rivas, Andy     University of Florida   \n",
       "1607              Sakr, Adrian K     University of Florida   \n",
       "1679  Shuping, Alexander Gabriel     University of Florida   \n",
       "1735      Steinebronn, Emma Kate     University of Florida   \n",
       "1764                Suen, Daniel     University of Florida   \n",
       "1889            Vieira, Annelise     University of Florida   \n",
       "1961          Wiech, Kathy Julie     University of Florida   \n",
       "2034             Young, Isabella     University of Florida   \n",
       "\n",
       "                                         Field of Study  \\\n",
       "29    Engineering - Aeronautical and Aerospace Engin...   \n",
       "31                              Life Sciences - Ecology   \n",
       "68                 Engineering - Biomedical Engineering   \n",
       "106                 Engineering - Materials Engineering   \n",
       "205   Engineering - Aeronautical and Aerospace Engin...   \n",
       "251                             Life Sciences - Ecology   \n",
       "424                Engineering - Biomedical Engineering   \n",
       "488                      Psychology - Social Psychology   \n",
       "538                Engineering - Biomedical Engineering   \n",
       "641                Engineering - Mechanical Engineering   \n",
       "644               Psychology - Developmental Psychology   \n",
       "678                Engineering - Biomedical Engineering   \n",
       "743                Engineering - Biomedical Engineering   \n",
       "856                Engineering - Biomedical Engineering   \n",
       "946        Life Sciences - Other (specify) - Entomology   \n",
       "951               Mathematical Sciences - Biostatistics   \n",
       "1307  Engineering - Aeronautical and Aerospace Engin...   \n",
       "1366               Engineering - Biomedical Engineering   \n",
       "1450  Engineering - Aeronautical and Aerospace Engin...   \n",
       "1523                            Life Sciences - Ecology   \n",
       "1544                  Engineering - Nuclear Engineering   \n",
       "1607            Engineering - Environmental Engineering   \n",
       "1679                 Engineering - Computer Engineering   \n",
       "1735   Materials Research - Quantum Information Science   \n",
       "1764                 Mathematical Sciences - Statistics   \n",
       "1889                           Life Sciences - Genetics   \n",
       "1961  Physics and Astronomy - Astronomy and Astrophy...   \n",
       "2034               Engineering - Biomedical Engineering   \n",
       "\n",
       "                              Current Institution  \n",
       "29                          University of Florida  \n",
       "31                          University of Florida  \n",
       "68                         UNIVERSITY OF VIRGINIA  \n",
       "106                      Johns Hopkins University  \n",
       "205                         University of Florida  \n",
       "251                         University of Florida  \n",
       "424                         University of Florida  \n",
       "488                                           NaN  \n",
       "538                        UNIVERSITY OF VIRGINIA  \n",
       "641                         University of Florida  \n",
       "644           University of Massachusetts Amherst  \n",
       "678                        UNIVERSITY OF VIRGINIA  \n",
       "743                            Cornell University  \n",
       "856               Georgia Institute of Technology  \n",
       "946                         University of Florida  \n",
       "951                         University of Florida  \n",
       "1307                        University of Florida  \n",
       "1366                        University of Florida  \n",
       "1450                        University of Florida  \n",
       "1523                                          NaN  \n",
       "1544              North Carolina State University  \n",
       "1607                        University of Florida  \n",
       "1679                        University of Florida  \n",
       "1735                        University of Florida  \n",
       "1764                     University of Washington  \n",
       "1889                        University of Florida  \n",
       "1961                        University of Florida  \n",
       "2034  University of North Carolina at Chapel Hill  "
      ]
     },
     "execution_count": 9,
     "metadata": {},
     "output_type": "execute_result"
    }
   ],
   "source": [
    "GRFP[GRFP['Baccalaureate Institution'].str.contains(\"University of Florida\", case=False, na=False)]"
   ]
  },
  {
   "cell_type": "markdown",
   "id": "assisted-fleece",
   "metadata": {},
   "source": [
    "## Remember, for 2021 (due in Oct 2020) they had priority areas which were \"Artificial Intelligence, Quantum Information Science, and Computationally Intensive Research\"\n",
    "https://www.nsf.gov/pubs/2020/nsf20587/nsf20587.htm\n",
    "\n",
    "https://www.nature.com/articles/d41586-020-02272-x\n",
    "\n",
    "We might expect that this would lead to more awardees in certain types of departments. How many applicants have \"engineering\" in their Field of Study?\n",
    "\n",
    "You can rerun this notebook again to get results for other years, but here are the last three years of results:\n",
    "\n",
    "For 2021, it's 32% of awardees.\n",
    "\n",
    "For 2020, it's 32% of awardees.\n",
    "\n",
    "For 2019, it's 29% of awardees."
   ]
  },
  {
   "cell_type": "code",
   "execution_count": 10,
   "id": "fancy-bedroom",
   "metadata": {},
   "outputs": [
    {
     "data": {
      "text/plain": [
       "31.58148505303761"
      ]
     },
     "execution_count": 10,
     "metadata": {},
     "output_type": "execute_result"
    }
   ],
   "source": [
    "GRFP_engin = GRFP[GRFP['Field of Study'].str.contains(\"Engineering\", case=False, na=False)]\n",
    "GRFP_engin['Name'].count() / Awardees * 100"
   ]
  },
  {
   "cell_type": "markdown",
   "id": "speaking-savings",
   "metadata": {},
   "source": [
    "### What is the most common engineering program?"
   ]
  },
  {
   "cell_type": "code",
   "execution_count": 11,
   "id": "conventional-option",
   "metadata": {},
   "outputs": [
    {
     "data": {
      "text/plain": [
       "Field of Study\n",
       "Engineering - Biomedical Engineering                                         128\n",
       "Engineering - Mechanical Engineering                                         116\n",
       "Engineering - Chemical Engineering                                            99\n",
       "Engineering - Bioengineering                                                  60\n",
       "Engineering - Electrical and Electronic Engineering                           49\n",
       "Engineering - Aeronautical and Aerospace Engineering                          45\n",
       "Engineering - Environmental Engineering                                       38\n",
       "Engineering - Materials Engineering                                           30\n",
       "Engineering - Civil Engineering                                               23\n",
       "Comp/IS/Eng - Computational Science and Engineering                            8\n",
       "Engineering - Artificial Intelligence                                          7\n",
       "Engineering - Computer Engineering                                             6\n",
       "Engineering - Industrial Engineering and Operations Research                   6\n",
       "STEM Education and Learning Research - Engineering Education                   6\n",
       "Engineering - Computationally Intensive Research                               5\n",
       "Engineering - Energy Engineering                                               4\n",
       "Engineering - Quantum Engineering                                              4\n",
       "Comp/IS/Eng - Software Engineering                                             3\n",
       "Engineering - Nuclear Engineering                                              3\n",
       "Engineering - Optical Engineering                                              2\n",
       "Engineering - Systems Engineering                                              2\n",
       "Engineering - Quantum Information Science                                      2\n",
       "Engineering - Other (specify) - Neural Engineering                             1\n",
       "Engineering - Other (specify) - Robotics                                       1\n",
       "Engineering - Other (specify) - Earth Observations, Natural Disasters          1\n",
       "Engineering - Other (specify) - Nano and Microsystems Engineering              1\n",
       "Engineering - Other (specify) - Molecular Engineering (Synthetic Biology)      1\n",
       "Engineering - Other (specify) - Engineering and Public Policy                  1\n",
       "Engineering - Other (specify) - Building Technology                            1\n",
       "Engineering - Ocean Engineering                                                1\n",
       "Social Sciences - Other (specify) - Engineering Systems and Policy             1\n",
       "dtype: int64"
      ]
     },
     "execution_count": 11,
     "metadata": {},
     "output_type": "execute_result"
    }
   ],
   "source": [
    "GRFP_engin_byField = GRFP_engin.groupby('Field of Study').size().sort_values(ascending=False)\n",
    "GRFP_engin_byField"
   ]
  },
  {
   "cell_type": "markdown",
   "id": "actual-decline",
   "metadata": {},
   "source": [
    "##### What about for Computer Science? This is Field of Study is called \"Comp/IS/Eng\"\n",
    "You can rerun this notebook again to get results for 2019 and 2020, but here are the three years of results:\n",
    "\n",
    "For 2021, it's 7.4% of awardees.\n",
    "\n",
    "For 2020, it's 7.7% awardees.\n",
    "\n",
    "For 2019, it's 7.6% awardees."
   ]
  },
  {
   "cell_type": "code",
   "execution_count": 12,
   "id": "bright-geology",
   "metadata": {},
   "outputs": [
    {
     "data": {
      "text/plain": [
       "7.425265188042431"
      ]
     },
     "execution_count": 12,
     "metadata": {},
     "output_type": "execute_result"
    }
   ],
   "source": [
    "GRFP_comput = GRFP[GRFP['Field of Study'].str.contains(\"Comp/\", case=False, na=False)]\n",
    "GRFP_comput['Name'].count() / Awardees * 100"
   ]
  },
  {
   "cell_type": "code",
   "execution_count": 13,
   "id": "rolled-message",
   "metadata": {},
   "outputs": [
    {
     "data": {
      "text/plain": [
       "Field of Study\n",
       "Comp/IS/Eng - Artificial Intelligence                                               22\n",
       "Comp/IS/Eng - Robotics and Computer Vision                                          21\n",
       "Comp/IS/Eng - Human Computer Interaction                                            17\n",
       "Comp/IS/Eng - Machine Learning                                                      17\n",
       "Comp/IS/Eng - Computer Security and Privacy                                         11\n",
       "Comp/IS/Eng - Algorithms and Theoretical Foundations                                11\n",
       "Comp/IS/Eng - Bioinformatics and other Informatics                                  11\n",
       "Comp/IS/Eng - Computational Science and Engineering                                  8\n",
       "Comp/IS/Eng - Natural Language Processing                                            8\n",
       "Comp/IS/Eng - Formal Methods, Verification, and Programming Languages                4\n",
       "Comp/IS/Eng - Software Engineering                                                   3\n",
       "Comp/IS/Eng - Computer Systems and Embedded Systems                                  3\n",
       "Comp/IS/Eng - Quantum Information Science                                            3\n",
       "Comp/IS/Eng - Computer Architecture                                                  3\n",
       "Comp/IS/Eng - Data Science                                                           2\n",
       "Comp/IS/Eng - Other (specify) - Human Centered Computing                             1\n",
       "Comp/IS/Eng - Quantum Computing and Communication                                    1\n",
       "Comp/IS/Eng - Other (specify) - Information Science                                  1\n",
       "Comp/IS/Eng - Computer Networks                                                      1\n",
       "Comp/IS/Eng - Other (specify) - Haptics                                              1\n",
       "Comp/IS/Eng - Other (specify) - Fairness, Accountability, and Transparency in Al     1\n",
       "Comp/IS/Eng - Other (specify) - Computer Science and Systems                         1\n",
       "Comp/IS/Eng - Computationally Intensive Research                                     1\n",
       "Comp/IS/Eng - Data Mining and Information Retrieval                                  1\n",
       "Comp/IS/Eng - Other (specify) - Computational Neuroscience                           1\n",
       "dtype: int64"
      ]
     },
     "execution_count": 13,
     "metadata": {},
     "output_type": "execute_result"
    }
   ],
   "source": [
    "GRFP_comput_byField = GRFP_comput.groupby('Field of Study').size().sort_values(ascending=False)\n",
    "GRFP_comput_byField"
   ]
  },
  {
   "cell_type": "markdown",
   "id": "continuing-offense",
   "metadata": {},
   "source": [
    "### I see no significant difference in the number awardees in engineering and computer science in 2021 relative to 2020 and 2019.  \n",
    "\n",
    "### Now let's look only at geosciences:"
   ]
  },
  {
   "cell_type": "code",
   "execution_count": 14,
   "id": "wired-carry",
   "metadata": {},
   "outputs": [
    {
     "data": {
      "text/html": [
       "<div>\n",
       "<style scoped>\n",
       "    .dataframe tbody tr th:only-of-type {\n",
       "        vertical-align: middle;\n",
       "    }\n",
       "\n",
       "    .dataframe tbody tr th {\n",
       "        vertical-align: top;\n",
       "    }\n",
       "\n",
       "    .dataframe thead th {\n",
       "        text-align: right;\n",
       "    }\n",
       "</style>\n",
       "<table border=\"1\" class=\"dataframe\">\n",
       "  <thead>\n",
       "    <tr style=\"text-align: right;\">\n",
       "      <th></th>\n",
       "      <th>Name</th>\n",
       "      <th>Baccalaureate Institution</th>\n",
       "      <th>Field of Study</th>\n",
       "      <th>Current Institution</th>\n",
       "    </tr>\n",
       "  </thead>\n",
       "  <tbody>\n",
       "    <tr>\n",
       "      <th>14</th>\n",
       "      <td>Aguilar, Jerod</td>\n",
       "      <td>University of Oregon Eugene</td>\n",
       "      <td>Geosciences - Geochemistry</td>\n",
       "      <td>University of Oregon Eugene</td>\n",
       "    </tr>\n",
       "    <tr>\n",
       "      <th>18</th>\n",
       "      <td>Aikin, Nicole Marie</td>\n",
       "      <td>University of California-Santa Barbara</td>\n",
       "      <td>Geosciences - Petrology</td>\n",
       "      <td>NaN</td>\n",
       "    </tr>\n",
       "    <tr>\n",
       "      <th>40</th>\n",
       "      <td>Anadu, Joshua Somtochukwu</td>\n",
       "      <td>Oklahoma State University</td>\n",
       "      <td>Geosciences - Geobiology</td>\n",
       "      <td>Oklahoma State University</td>\n",
       "    </tr>\n",
       "    <tr>\n",
       "      <th>108</th>\n",
       "      <td>Beethe, Sarah Marie</td>\n",
       "      <td>GEORGE WASHINGTON UNIVERSITY, THE</td>\n",
       "      <td>Geosciences - Other (specify) - Volcanology</td>\n",
       "      <td>GEORGE WASHINGTON UNIVERSITY, THE</td>\n",
       "    </tr>\n",
       "    <tr>\n",
       "      <th>159</th>\n",
       "      <td>Bonan, David B</td>\n",
       "      <td>University of Washington</td>\n",
       "      <td>Geosciences - Physical Oceanography</td>\n",
       "      <td>California Institute of Technology</td>\n",
       "    </tr>\n",
       "    <tr>\n",
       "      <th>...</th>\n",
       "      <td>...</td>\n",
       "      <td>...</td>\n",
       "      <td>...</td>\n",
       "      <td>...</td>\n",
       "    </tr>\n",
       "    <tr>\n",
       "      <th>1880</th>\n",
       "      <td>Vejar, Manuel Rafael</td>\n",
       "      <td>California State Polytechnic University-Pomona</td>\n",
       "      <td>Geosciences - Other (specify) - Actinide geoch...</td>\n",
       "      <td>University of Notre Dame</td>\n",
       "    </tr>\n",
       "    <tr>\n",
       "      <th>1881</th>\n",
       "      <td>Velazquez, Diana</td>\n",
       "      <td>Northwestern University</td>\n",
       "      <td>Geosciences - Other (specify) - Biogeochemistry</td>\n",
       "      <td>Northwestern University</td>\n",
       "    </tr>\n",
       "    <tr>\n",
       "      <th>1919</th>\n",
       "      <td>Wang, Terrance</td>\n",
       "      <td>UNIVERSITY OF CALIFORNIA, BERKELEY</td>\n",
       "      <td>Geosciences - Marine Biology</td>\n",
       "      <td>NaN</td>\n",
       "    </tr>\n",
       "    <tr>\n",
       "      <th>1932</th>\n",
       "      <td>Warren, Treasure A</td>\n",
       "      <td>University of California-Davis</td>\n",
       "      <td>Geosciences - Chemical Oceanography</td>\n",
       "      <td>NaN</td>\n",
       "    </tr>\n",
       "    <tr>\n",
       "      <th>1941</th>\n",
       "      <td>Weidner, Caroline</td>\n",
       "      <td>Syracuse University</td>\n",
       "      <td>Geosciences - Hydrology</td>\n",
       "      <td>Michigan State University</td>\n",
       "    </tr>\n",
       "  </tbody>\n",
       "</table>\n",
       "<p>99 rows × 4 columns</p>\n",
       "</div>"
      ],
      "text/plain": [
       "                           Name  \\\n",
       "14               Aguilar, Jerod   \n",
       "18          Aikin, Nicole Marie   \n",
       "40    Anadu, Joshua Somtochukwu   \n",
       "108         Beethe, Sarah Marie   \n",
       "159              Bonan, David B   \n",
       "...                         ...   \n",
       "1880       Vejar, Manuel Rafael   \n",
       "1881           Velazquez, Diana   \n",
       "1919             Wang, Terrance   \n",
       "1932         Warren, Treasure A   \n",
       "1941          Weidner, Caroline   \n",
       "\n",
       "                           Baccalaureate Institution  \\\n",
       "14                       University of Oregon Eugene   \n",
       "18            University of California-Santa Barbara   \n",
       "40                         Oklahoma State University   \n",
       "108                GEORGE WASHINGTON UNIVERSITY, THE   \n",
       "159                         University of Washington   \n",
       "...                                              ...   \n",
       "1880  California State Polytechnic University-Pomona   \n",
       "1881                         Northwestern University   \n",
       "1919              UNIVERSITY OF CALIFORNIA, BERKELEY   \n",
       "1932                  University of California-Davis   \n",
       "1941                             Syracuse University   \n",
       "\n",
       "                                         Field of Study  \\\n",
       "14                           Geosciences - Geochemistry   \n",
       "18                              Geosciences - Petrology   \n",
       "40                             Geosciences - Geobiology   \n",
       "108         Geosciences - Other (specify) - Volcanology   \n",
       "159                 Geosciences - Physical Oceanography   \n",
       "...                                                 ...   \n",
       "1880  Geosciences - Other (specify) - Actinide geoch...   \n",
       "1881    Geosciences - Other (specify) - Biogeochemistry   \n",
       "1919                       Geosciences - Marine Biology   \n",
       "1932                Geosciences - Chemical Oceanography   \n",
       "1941                            Geosciences - Hydrology   \n",
       "\n",
       "                     Current Institution  \n",
       "14           University of Oregon Eugene  \n",
       "18                                   NaN  \n",
       "40             Oklahoma State University  \n",
       "108    GEORGE WASHINGTON UNIVERSITY, THE  \n",
       "159   California Institute of Technology  \n",
       "...                                  ...  \n",
       "1880            University of Notre Dame  \n",
       "1881             Northwestern University  \n",
       "1919                                 NaN  \n",
       "1932                                 NaN  \n",
       "1941           Michigan State University  \n",
       "\n",
       "[99 rows x 4 columns]"
      ]
     },
     "execution_count": 14,
     "metadata": {},
     "output_type": "execute_result"
    }
   ],
   "source": [
    "GRFP_Geo = GRFP[GRFP['Field of Study'].str.contains(\"Geosciences -\", case=False, na=False)]\n",
    "GeoAwardees = GRFP_Geo['Name'].count()\n",
    "GRFP_Geo"
   ]
  },
  {
   "cell_type": "code",
   "execution_count": 15,
   "id": "developmental-float",
   "metadata": {},
   "outputs": [
    {
     "data": {
      "text/plain": [
       "Baccalaureate Institution\n",
       "UNIVERSITY OF CALIFORNIA, BERKELEY    3\n",
       "William Marsh Rice University         2\n",
       "Florida International University      2\n",
       "Princeton University                  2\n",
       "UNIVERSITY OF WASHINGTON              2\n",
       "Northwestern University               2\n",
       "University of California-Berkeley     2\n",
       "University of California-Davis        2\n",
       "Hampton University                    2\n",
       "Harvard University                    2\n",
       "Stanford University                   2\n",
       "California Institute of Technology    2\n",
       "Carleton College                      2\n",
       "University of Texas at Austin         2\n",
       "UNIVERSITY OF VIRGINIA                1\n",
       "University of California - Merced     1\n",
       "University of Arizona                 1\n",
       "University of  Puget Sound            1\n",
       "University of Texas at Dallas         1\n",
       "UNIVERSITY OF MIAMI                   1\n",
       "dtype: int64"
      ]
     },
     "execution_count": 15,
     "metadata": {},
     "output_type": "execute_result"
    }
   ],
   "source": [
    "GRFP_Geo_byBaccInst = GRFP_Geo.groupby('Baccalaureate Institution').size().sort_values(ascending=False)\n",
    "GRFP_Geo_byBaccInst.head(20)"
   ]
  },
  {
   "cell_type": "markdown",
   "id": "ongoing-third",
   "metadata": {},
   "source": [
    "### How many awards in Oceanography?\n",
    "In 2021, there were 15 (0.7%), and only 2 in chemical oceanography.\n",
    "\n",
    "In 2020, there were 17 (0.8%), and 6 in chemical oceanography.\n",
    "\n",
    "In 2019, there were 13 (0.6%), and 4 in chemical oceanography."
   ]
  },
  {
   "cell_type": "code",
   "execution_count": 16,
   "id": "statistical-shade",
   "metadata": {},
   "outputs": [
    {
     "data": {
      "text/plain": [
       "0.7232401157184185"
      ]
     },
     "execution_count": 16,
     "metadata": {},
     "output_type": "execute_result"
    }
   ],
   "source": [
    "GRFP_Oce = GRFP[GRFP['Field of Study'].str.contains(\"oceanography\", case=False, na=False)]\n",
    "GRFP_Oce['Name'].count() / Awardees * 100"
   ]
  },
  {
   "cell_type": "code",
   "execution_count": 17,
   "id": "incomplete-mount",
   "metadata": {},
   "outputs": [
    {
     "data": {
      "text/html": [
       "<div>\n",
       "<style scoped>\n",
       "    .dataframe tbody tr th:only-of-type {\n",
       "        vertical-align: middle;\n",
       "    }\n",
       "\n",
       "    .dataframe tbody tr th {\n",
       "        vertical-align: top;\n",
       "    }\n",
       "\n",
       "    .dataframe thead th {\n",
       "        text-align: right;\n",
       "    }\n",
       "</style>\n",
       "<table border=\"1\" class=\"dataframe\">\n",
       "  <thead>\n",
       "    <tr style=\"text-align: right;\">\n",
       "      <th></th>\n",
       "      <th>Name</th>\n",
       "      <th>Baccalaureate Institution</th>\n",
       "      <th>Field of Study</th>\n",
       "      <th>Current Institution</th>\n",
       "    </tr>\n",
       "  </thead>\n",
       "  <tbody>\n",
       "    <tr>\n",
       "      <th>690</th>\n",
       "      <td>Gunnells, Shelby Ann</td>\n",
       "      <td>North Dakota State University Fargo</td>\n",
       "      <td>Geosciences - Chemical Oceanography</td>\n",
       "      <td>North Dakota State University Fargo</td>\n",
       "    </tr>\n",
       "    <tr>\n",
       "      <th>1932</th>\n",
       "      <td>Warren, Treasure A</td>\n",
       "      <td>University of California-Davis</td>\n",
       "      <td>Geosciences - Chemical Oceanography</td>\n",
       "      <td>NaN</td>\n",
       "    </tr>\n",
       "  </tbody>\n",
       "</table>\n",
       "</div>"
      ],
      "text/plain": [
       "                      Name            Baccalaureate Institution  \\\n",
       "690   Gunnells, Shelby Ann  North Dakota State University Fargo   \n",
       "1932    Warren, Treasure A       University of California-Davis   \n",
       "\n",
       "                           Field of Study                  Current Institution  \n",
       "690   Geosciences - Chemical Oceanography  North Dakota State University Fargo  \n",
       "1932  Geosciences - Chemical Oceanography                                  NaN  "
      ]
     },
     "execution_count": 17,
     "metadata": {},
     "output_type": "execute_result"
    }
   ],
   "source": [
    "GRFP[GRFP['Field of Study'].str.contains(\"Chemical Oceanography\", case=False, na=False)]"
   ]
  },
  {
   "cell_type": "markdown",
   "id": "technical-helicopter",
   "metadata": {},
   "source": [
    "## How many in Marine Biology?\n",
    "In 2021, there were 12 (0.6% of awardees).\n",
    "\n",
    "In 2020, there were 10 (0.5% of awardees).\n",
    "\n",
    "In 2019, there were 12 (0.6% of awardees)."
   ]
  },
  {
   "cell_type": "code",
   "execution_count": 18,
   "id": "ranging-penetration",
   "metadata": {},
   "outputs": [
    {
     "data": {
      "text/plain": [
       "0.5785920925747349"
      ]
     },
     "execution_count": 18,
     "metadata": {},
     "output_type": "execute_result"
    }
   ],
   "source": [
    "GRFP_MarBio = GRFP[GRFP['Field of Study'].str.contains(\"Marine Biology\", case=False, na=False)]\n",
    "GRFP_MarBio['Name'].count() / Awardees * 100"
   ]
  },
  {
   "cell_type": "code",
   "execution_count": 19,
   "id": "adapted-springer",
   "metadata": {},
   "outputs": [
    {
     "data": {
      "text/html": [
       "<div>\n",
       "<style scoped>\n",
       "    .dataframe tbody tr th:only-of-type {\n",
       "        vertical-align: middle;\n",
       "    }\n",
       "\n",
       "    .dataframe tbody tr th {\n",
       "        vertical-align: top;\n",
       "    }\n",
       "\n",
       "    .dataframe thead th {\n",
       "        text-align: right;\n",
       "    }\n",
       "</style>\n",
       "<table border=\"1\" class=\"dataframe\">\n",
       "  <thead>\n",
       "    <tr style=\"text-align: right;\">\n",
       "      <th></th>\n",
       "      <th>Name</th>\n",
       "      <th>Baccalaureate Institution</th>\n",
       "      <th>Field of Study</th>\n",
       "      <th>Current Institution</th>\n",
       "    </tr>\n",
       "  </thead>\n",
       "  <tbody>\n",
       "    <tr>\n",
       "      <th>218</th>\n",
       "      <td>Bushnell, Elizabeth Josephine</td>\n",
       "      <td>University of San Diego</td>\n",
       "      <td>Geosciences - Marine Biology</td>\n",
       "      <td>NaN</td>\n",
       "    </tr>\n",
       "    <tr>\n",
       "      <th>230</th>\n",
       "      <td>Caldwell, Aliya Everest</td>\n",
       "      <td>Rutgers University New Brunswick</td>\n",
       "      <td>Geosciences - Marine Biology</td>\n",
       "      <td>University of New Hampshire</td>\n",
       "    </tr>\n",
       "    <tr>\n",
       "      <th>341</th>\n",
       "      <td>Collins, Stormie Blayze</td>\n",
       "      <td>Florida International University</td>\n",
       "      <td>Geosciences - Marine Biology</td>\n",
       "      <td>NaN</td>\n",
       "    </tr>\n",
       "    <tr>\n",
       "      <th>350</th>\n",
       "      <td>Cook McNab, Aimee Arielle</td>\n",
       "      <td>Texas A&amp;M University at Galveston</td>\n",
       "      <td>Geosciences - Marine Biology</td>\n",
       "      <td>NaN</td>\n",
       "    </tr>\n",
       "    <tr>\n",
       "      <th>531</th>\n",
       "      <td>Fenwick, Ileana Faye</td>\n",
       "      <td>Hampton University</td>\n",
       "      <td>Geosciences - Marine Biology</td>\n",
       "      <td>UNIVERSITY OF NORTH CAROLINA AT CHAPEL HILL</td>\n",
       "    </tr>\n",
       "    <tr>\n",
       "      <th>844</th>\n",
       "      <td>Jarman, Cheyenne Nicole</td>\n",
       "      <td>University of California-Santa Cruz</td>\n",
       "      <td>Geosciences - Marine Biology</td>\n",
       "      <td>Oregon State University</td>\n",
       "    </tr>\n",
       "    <tr>\n",
       "      <th>862</th>\n",
       "      <td>Johnson, Carter</td>\n",
       "      <td>UNIVERSITY OF WASHINGTON</td>\n",
       "      <td>Geosciences - Marine Biology</td>\n",
       "      <td>NaN</td>\n",
       "    </tr>\n",
       "    <tr>\n",
       "      <th>1218</th>\n",
       "      <td>McLean, Josette Elena Trisha</td>\n",
       "      <td>St. George's University</td>\n",
       "      <td>Geosciences - Marine Biology</td>\n",
       "      <td>Hampton University</td>\n",
       "    </tr>\n",
       "    <tr>\n",
       "      <th>1273</th>\n",
       "      <td>Moore, Malia Leilani</td>\n",
       "      <td>University of California-Berkeley</td>\n",
       "      <td>Geosciences - Marine Biology</td>\n",
       "      <td>UNIVERSITY OF CALIFORNIA SAN DIEGO</td>\n",
       "    </tr>\n",
       "    <tr>\n",
       "      <th>1332</th>\n",
       "      <td>Nodal, Andrea Alejandra</td>\n",
       "      <td>Florida International University</td>\n",
       "      <td>Geosciences - Marine Biology</td>\n",
       "      <td>NaN</td>\n",
       "    </tr>\n",
       "    <tr>\n",
       "      <th>1699</th>\n",
       "      <td>Sleugh, Toni Robyn</td>\n",
       "      <td>Iowa State University</td>\n",
       "      <td>Geosciences - Marine Biology</td>\n",
       "      <td>Iowa State University</td>\n",
       "    </tr>\n",
       "    <tr>\n",
       "      <th>1919</th>\n",
       "      <td>Wang, Terrance</td>\n",
       "      <td>UNIVERSITY OF CALIFORNIA, BERKELEY</td>\n",
       "      <td>Geosciences - Marine Biology</td>\n",
       "      <td>NaN</td>\n",
       "    </tr>\n",
       "  </tbody>\n",
       "</table>\n",
       "</div>"
      ],
      "text/plain": [
       "                               Name            Baccalaureate Institution  \\\n",
       "218   Bushnell, Elizabeth Josephine              University of San Diego   \n",
       "230         Caldwell, Aliya Everest     Rutgers University New Brunswick   \n",
       "341         Collins, Stormie Blayze     Florida International University   \n",
       "350       Cook McNab, Aimee Arielle    Texas A&M University at Galveston   \n",
       "531            Fenwick, Ileana Faye                   Hampton University   \n",
       "844         Jarman, Cheyenne Nicole  University of California-Santa Cruz   \n",
       "862                 Johnson, Carter             UNIVERSITY OF WASHINGTON   \n",
       "1218   McLean, Josette Elena Trisha              St. George's University   \n",
       "1273           Moore, Malia Leilani    University of California-Berkeley   \n",
       "1332        Nodal, Andrea Alejandra     Florida International University   \n",
       "1699             Sleugh, Toni Robyn                Iowa State University   \n",
       "1919                 Wang, Terrance   UNIVERSITY OF CALIFORNIA, BERKELEY   \n",
       "\n",
       "                    Field of Study  \\\n",
       "218   Geosciences - Marine Biology   \n",
       "230   Geosciences - Marine Biology   \n",
       "341   Geosciences - Marine Biology   \n",
       "350   Geosciences - Marine Biology   \n",
       "531   Geosciences - Marine Biology   \n",
       "844   Geosciences - Marine Biology   \n",
       "862   Geosciences - Marine Biology   \n",
       "1218  Geosciences - Marine Biology   \n",
       "1273  Geosciences - Marine Biology   \n",
       "1332  Geosciences - Marine Biology   \n",
       "1699  Geosciences - Marine Biology   \n",
       "1919  Geosciences - Marine Biology   \n",
       "\n",
       "                              Current Institution  \n",
       "218                                           NaN  \n",
       "230                   University of New Hampshire  \n",
       "341                                           NaN  \n",
       "350                                           NaN  \n",
       "531   UNIVERSITY OF NORTH CAROLINA AT CHAPEL HILL  \n",
       "844                       Oregon State University  \n",
       "862                                           NaN  \n",
       "1218                           Hampton University  \n",
       "1273           UNIVERSITY OF CALIFORNIA SAN DIEGO  \n",
       "1332                                          NaN  \n",
       "1699                        Iowa State University  \n",
       "1919                                          NaN  "
      ]
     },
     "execution_count": 19,
     "metadata": {},
     "output_type": "execute_result"
    }
   ],
   "source": [
    "GRFP_MarBio"
   ]
  },
  {
   "cell_type": "markdown",
   "id": "stopped-compound",
   "metadata": {},
   "source": [
    "### Maybe people in chemical oceanography applied under other disciplines? What if we search for just \"chem\"? This includes a ton of different disciplines.\n",
    "315 (15.2%) in 2021\n",
    "\n",
    "316 (15.2%) in 2020\n",
    "\n",
    "312 (15.2%) in 2019\n"
   ]
  },
  {
   "cell_type": "code",
   "execution_count": 20,
   "id": "buried-alfred",
   "metadata": {},
   "outputs": [
    {
     "data": {
      "text/plain": [
       "Field of Study\n",
       "Engineering - Chemical Engineering                                                  99\n",
       "Chemistry - Chemical Synthesis                                                      29\n",
       "Chemistry - Chemistry of Life Processes                                             28\n",
       "Life Sciences - Biochemistry                                                        26\n",
       "Chemistry - Chemical Catalysis                                                      22\n",
       "Chemistry - Macromolecular, Supramolecular, and Nanochemistry                       17\n",
       "Materials Research - Chemistry of Materials                                         15\n",
       "Chemistry - Chemical Structure, Dynamics, and Mechanism                             12\n",
       "Chemistry - Chemical Theory, Models and Computational Methods                       11\n",
       "Chemistry - Chemical Measurement and Imaging                                         8\n",
       "Geosciences - Biogeochemistry                                                        7\n",
       "Geosciences - Geochemistry                                                           6\n",
       "Chemistry - Sustainable Chemistry                                                    5\n",
       "Chemistry - Computationally Intensive Research                                       5\n",
       "Chemistry - Artificial Intelligence                                                  3\n",
       "Chemistry - Quantum Information Science                                              3\n",
       "Chemistry - Environmental Chemical Systems                                           3\n",
       "Geosciences - Atmospheric Chemistry                                                  2\n",
       "Geosciences - Chemical Oceanography                                                  2\n",
       "Geosciences - Other (specify) - Actinide geochemistry                                1\n",
       "Geosciences - Other (specify) - Biogeochemistry                                      1\n",
       "Life Sciences - Other (specify) - Pharmaceutical Sciences (Focus: Biochemistry a     1\n",
       "Chemistry - Other (specify) - Inorganic, Materials                                   1\n",
       "Chemistry - Other (specify) - Physical Chemistry                                     1\n",
       "Chemistry - Other (specify) - Organic Chemistry                                      1\n",
       "Chemistry - Other (specify) - Electrochemistry                                       1\n",
       "Chemistry - Other (specify) - Chemical Biology                                       1\n",
       "Chemistry - Other (specify) - Bioinorganic                                           1\n",
       "Chemistry - Other (specify) - Astrochemistry                                         1\n",
       "Chemistry - Other (specify) - Analytical & Atmospheric                               1\n",
       "STEM Education and Learning Research - Other (specify) - Chemistry                   1\n",
       "dtype: int64"
      ]
     },
     "execution_count": 20,
     "metadata": {},
     "output_type": "execute_result"
    }
   ],
   "source": [
    "GRFP_chem = GRFP[GRFP['Field of Study'].str.contains(\"Chem\", case=False, na=False)]\n",
    "GRFP_chem_byField = GRFP_chem.groupby('Field of Study').size().sort_values(ascending=False)\n",
    "GRFP_chem_byField"
   ]
  },
  {
   "cell_type": "code",
   "execution_count": 21,
   "id": "colored-warning",
   "metadata": {},
   "outputs": [
    {
     "data": {
      "text/plain": [
       "15.18804243008679"
      ]
     },
     "execution_count": 21,
     "metadata": {},
     "output_type": "execute_result"
    }
   ],
   "source": [
    "GRFP_chem['Name'].count() / Awardees * 100"
   ]
  },
  {
   "cell_type": "markdown",
   "id": "selected-chaos",
   "metadata": {},
   "source": [
    "### What about Paleoclimate (excluding paleontology and paleobiology)?\n",
    "8 in 2021\n",
    "\n",
    "4 in 2020\n",
    "\n",
    "2 in 2019"
   ]
  },
  {
   "cell_type": "code",
   "execution_count": 22,
   "id": "otherwise-participant",
   "metadata": {},
   "outputs": [
    {
     "data": {
      "text/plain": [
       "Field of Study\n",
       "Geosciences - Paleoclimate    8\n",
       "dtype: int64"
      ]
     },
     "execution_count": 22,
     "metadata": {},
     "output_type": "execute_result"
    }
   ],
   "source": [
    "GRFP_paleo = GRFP[GRFP['Field of Study'].str.contains(\"Paleoclimate\", case=False, na=False)]\n",
    "GRFP_paleo_byField = GRFP_paleo.groupby('Field of Study').size().sort_values(ascending=False)\n",
    "GRFP_paleo_byField"
   ]
  },
  {
   "cell_type": "code",
   "execution_count": null,
   "id": "brief-knock",
   "metadata": {},
   "outputs": [],
   "source": []
  },
  {
   "cell_type": "code",
   "execution_count": null,
   "id": "communist-windows",
   "metadata": {},
   "outputs": [],
   "source": []
  }
 ],
 "metadata": {
  "kernelspec": {
   "display_name": "Python 3",
   "language": "python",
   "name": "python3"
  },
  "language_info": {
   "codemirror_mode": {
    "name": "ipython",
    "version": 3
   },
   "file_extension": ".py",
   "mimetype": "text/x-python",
   "name": "python",
   "nbconvert_exporter": "python",
   "pygments_lexer": "ipython3",
   "version": "3.8.5"
  }
 },
 "nbformat": 4,
 "nbformat_minor": 5
}
